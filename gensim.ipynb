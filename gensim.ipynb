{
 "cells": [
  {
   "cell_type": "code",
   "execution_count": 1,
   "metadata": {
    "collapsed": true,
    "deletable": true,
    "editable": true
   },
   "outputs": [],
   "source": [
    "from gensim.models import word2vec\n",
    "import numpy as np\n",
    "import pandas as pd\n",
    "import matplotlib.pyplot as plt"
   ]
  },
  {
   "cell_type": "code",
   "execution_count": 2,
   "metadata": {
    "collapsed": false,
    "deletable": true,
    "editable": true
   },
   "outputs": [],
   "source": [
    "#sentences = word2vec.Text8Corpus('text8')\n",
    "#model = word2vec.Word2Vec(sentences, size=100)"
   ]
  },
  {
   "cell_type": "code",
   "execution_count": 3,
   "metadata": {
    "collapsed": true,
    "deletable": true,
    "editable": true
   },
   "outputs": [],
   "source": [
    "import logging\n",
    "logging.basicConfig(format='%(asctime)s : %(levelname)s : %(message)s', level=logging.INFO)"
   ]
  },
  {
   "cell_type": "markdown",
   "metadata": {},
   "source": [
    "# Data preparation"
   ]
  },
  {
   "cell_type": "markdown",
   "metadata": {},
   "source": [
    "Загрузим набор текстов из экономического журнала, размеченных по темам."
   ]
  },
  {
   "cell_type": "code",
   "execution_count": 4,
   "metadata": {
    "collapsed": true
   },
   "outputs": [],
   "source": [
    "X, y = [], []\n",
    "with open('r8-no-stop.txt') as infile:\n",
    "    for line in infile:\n",
    "        label, text = line.split(\"\\t\")\n",
    "        # texts are already tokenized, just split on space\n",
    "        # in a real case we would use e.g. spaCy for tokenization\n",
    "        # and maybe remove stopwords etc.\n",
    "        X.append(text.split())\n",
    "        y.append(label)\n",
    "X, y = np.array(X), np.array(y)"
   ]
  },
  {
   "cell_type": "code",
   "execution_count": 177,
   "metadata": {
    "collapsed": false
   },
   "outputs": [
    {
     "data": {
      "text/plain": [
       "['asian',\n",
       " 'exporters',\n",
       " 'fear',\n",
       " 'damage',\n",
       " 'japan',\n",
       " 'rift',\n",
       " 'mounting',\n",
       " 'trade',\n",
       " 'friction',\n",
       " 'and',\n",
       " 'japan',\n",
       " 'raised',\n",
       " 'fears',\n",
       " 'asia',\n",
       " 'exporting',\n",
       " 'nations',\n",
       " 'that',\n",
       " 'row',\n",
       " 'inflict',\n",
       " 'reaching',\n",
       " 'economic',\n",
       " 'damage',\n",
       " 'businessmen',\n",
       " 'and',\n",
       " 'officials',\n",
       " 'told',\n",
       " 'reuter',\n",
       " 'correspondents',\n",
       " 'asian',\n",
       " 'capitals',\n",
       " 'move',\n",
       " 'japan',\n",
       " 'boost',\n",
       " 'protectionist',\n",
       " 'sentiment',\n",
       " 'and',\n",
       " 'lead',\n",
       " 'curbs',\n",
       " 'american',\n",
       " 'imports',\n",
       " 'products',\n",
       " 'exporters',\n",
       " 'that',\n",
       " 'conflict',\n",
       " 'hurt',\n",
       " 'long',\n",
       " 'run',\n",
       " 'short',\n",
       " 'term',\n",
       " 'tokyo',\n",
       " 'loss',\n",
       " 'gain',\n",
       " 'will',\n",
       " 'impose',\n",
       " 'mln',\n",
       " 'dlrs',\n",
       " 'tariffs',\n",
       " 'imports',\n",
       " 'japanese',\n",
       " 'electronics',\n",
       " 'goods',\n",
       " 'april',\n",
       " 'retaliation',\n",
       " 'for',\n",
       " 'japan',\n",
       " 'alleged',\n",
       " 'failure',\n",
       " 'stick',\n",
       " 'pact',\n",
       " 'not',\n",
       " 'sell',\n",
       " 'semiconductors',\n",
       " 'world',\n",
       " 'markets',\n",
       " 'below',\n",
       " 'cost',\n",
       " 'unofficial',\n",
       " 'japanese',\n",
       " 'estimates',\n",
       " 'put',\n",
       " 'impact',\n",
       " 'tariffs',\n",
       " 'billion',\n",
       " 'dlrs',\n",
       " 'and',\n",
       " 'spokesmen',\n",
       " 'for',\n",
       " 'major',\n",
       " 'electronics',\n",
       " 'firms',\n",
       " 'virtually',\n",
       " 'halt',\n",
       " 'exports',\n",
       " 'products',\n",
       " 'hit',\n",
       " 'taxes',\n",
       " 'wouldn',\n",
       " 'business',\n",
       " 'spokesman',\n",
       " 'for',\n",
       " 'leading',\n",
       " 'japanese',\n",
       " 'electronics',\n",
       " 'firm',\n",
       " 'matsushita',\n",
       " 'electric',\n",
       " 'industrial',\n",
       " 'tariffs',\n",
       " 'remain',\n",
       " 'place',\n",
       " 'for',\n",
       " 'length',\n",
       " 'time',\n",
       " 'months',\n",
       " 'will',\n",
       " 'mean',\n",
       " 'complete',\n",
       " 'erosion',\n",
       " 'exports',\n",
       " 'goods',\n",
       " 'subject',\n",
       " 'tariffs',\n",
       " 'tom',\n",
       " 'murtha',\n",
       " 'stock',\n",
       " 'analyst',\n",
       " 'tokyo',\n",
       " 'office',\n",
       " 'broker',\n",
       " 'james',\n",
       " 'capel',\n",
       " 'and',\n",
       " 'taiwan',\n",
       " 'businessmen',\n",
       " 'and',\n",
       " 'officials',\n",
       " 'worried',\n",
       " 'aware',\n",
       " 'seriousness',\n",
       " 'threat',\n",
       " 'japan',\n",
       " 'serves',\n",
       " 'warning',\n",
       " 'senior',\n",
       " 'taiwanese',\n",
       " 'trade',\n",
       " 'official',\n",
       " 'asked',\n",
       " 'not',\n",
       " 'named',\n",
       " 'taiwan',\n",
       " 'had',\n",
       " 'trade',\n",
       " 'trade',\n",
       " 'surplus',\n",
       " 'billion',\n",
       " 'dlrs',\n",
       " 'last',\n",
       " 'year',\n",
       " 'pct',\n",
       " 'surplus',\n",
       " 'helped',\n",
       " 'swell',\n",
       " 'taiwan',\n",
       " 'foreign',\n",
       " 'exchange',\n",
       " 'reserves',\n",
       " 'billion',\n",
       " 'dlrs',\n",
       " 'world',\n",
       " 'largest',\n",
       " 'quickly',\n",
       " 'open',\n",
       " 'markets',\n",
       " 'remove',\n",
       " 'trade',\n",
       " 'barriers',\n",
       " 'and',\n",
       " 'cut',\n",
       " 'import',\n",
       " 'tariffs',\n",
       " 'imports',\n",
       " 'products',\n",
       " 'want',\n",
       " 'defuse',\n",
       " 'problems',\n",
       " 'retaliation',\n",
       " 'paul',\n",
       " 'sheen',\n",
       " 'chairman',\n",
       " 'textile',\n",
       " 'exporters',\n",
       " 'taiwan',\n",
       " 'safe',\n",
       " 'group',\n",
       " 'senior',\n",
       " 'official',\n",
       " 'south',\n",
       " 'korea',\n",
       " 'trade',\n",
       " 'promotion',\n",
       " 'association',\n",
       " 'trade',\n",
       " 'dispute',\n",
       " 'and',\n",
       " 'japan',\n",
       " 'lead',\n",
       " 'pressure',\n",
       " 'south',\n",
       " 'korea',\n",
       " 'chief',\n",
       " 'exports',\n",
       " 'similar',\n",
       " 'japan',\n",
       " 'last',\n",
       " 'year',\n",
       " 'south',\n",
       " 'korea',\n",
       " 'had',\n",
       " 'trade',\n",
       " 'surplus',\n",
       " 'billion',\n",
       " 'dlrs',\n",
       " 'billion',\n",
       " 'dlrs',\n",
       " 'malaysia',\n",
       " 'trade',\n",
       " 'officers',\n",
       " 'and',\n",
       " 'businessmen',\n",
       " 'tough',\n",
       " 'curbs',\n",
       " 'japan',\n",
       " 'hard',\n",
       " 'hit',\n",
       " 'producers',\n",
       " 'semiconductors',\n",
       " 'countries',\n",
       " 'expand',\n",
       " 'sales',\n",
       " 'hong',\n",
       " 'kong',\n",
       " 'newspapers',\n",
       " 'alleged',\n",
       " 'japan',\n",
       " 'selling',\n",
       " 'below',\n",
       " 'cost',\n",
       " 'semiconductors',\n",
       " 'electronics',\n",
       " 'manufacturers',\n",
       " 'share',\n",
       " 'that',\n",
       " 'view',\n",
       " 'businessmen',\n",
       " 'such',\n",
       " 'short',\n",
       " 'term',\n",
       " 'commercial',\n",
       " 'advantage',\n",
       " 'outweighed',\n",
       " 'pressure',\n",
       " 'block',\n",
       " 'imports',\n",
       " 'that',\n",
       " 'short',\n",
       " 'term',\n",
       " 'view',\n",
       " 'lawrence',\n",
       " 'mills',\n",
       " 'director',\n",
       " 'general',\n",
       " 'federation',\n",
       " 'hong',\n",
       " 'kong',\n",
       " 'industry',\n",
       " 'purpose',\n",
       " 'prevent',\n",
       " 'imports',\n",
       " 'day',\n",
       " 'will',\n",
       " 'extended',\n",
       " 'sources',\n",
       " 'for',\n",
       " 'hong',\n",
       " 'kong',\n",
       " 'disadvantage',\n",
       " 'action',\n",
       " 'restraining',\n",
       " 'trade',\n",
       " 'last',\n",
       " 'year',\n",
       " 'hong',\n",
       " 'kong',\n",
       " 'biggest',\n",
       " 'export',\n",
       " 'market',\n",
       " 'accounting',\n",
       " 'for',\n",
       " 'pct',\n",
       " 'domestically',\n",
       " 'produced',\n",
       " 'exports',\n",
       " 'australian',\n",
       " 'government',\n",
       " 'awaiting',\n",
       " 'outcome',\n",
       " 'trade',\n",
       " 'talks',\n",
       " 'and',\n",
       " 'japan',\n",
       " 'interest',\n",
       " 'and',\n",
       " 'concern',\n",
       " 'industry',\n",
       " 'minister',\n",
       " 'john',\n",
       " 'button',\n",
       " 'canberra',\n",
       " 'last',\n",
       " 'friday',\n",
       " 'this',\n",
       " 'kind',\n",
       " 'deterioration',\n",
       " 'trade',\n",
       " 'relations',\n",
       " 'two',\n",
       " 'countries',\n",
       " 'major',\n",
       " 'trading',\n",
       " 'partners',\n",
       " 'ours',\n",
       " 'matter',\n",
       " 'button',\n",
       " 'australia',\n",
       " 'concerns',\n",
       " 'centred',\n",
       " 'coal',\n",
       " 'and',\n",
       " 'beef',\n",
       " 'australia',\n",
       " 'two',\n",
       " 'largest',\n",
       " 'exports',\n",
       " 'japan',\n",
       " 'and',\n",
       " 'significant',\n",
       " 'exports',\n",
       " 'that',\n",
       " 'country',\n",
       " 'meanwhile',\n",
       " 'japanese',\n",
       " 'diplomatic',\n",
       " 'manoeuvres',\n",
       " 'solve',\n",
       " 'trade',\n",
       " 'stand',\n",
       " 'continue',\n",
       " 'japan',\n",
       " 'ruling',\n",
       " 'liberal',\n",
       " 'democratic',\n",
       " 'party',\n",
       " 'yesterday',\n",
       " 'outlined',\n",
       " 'package',\n",
       " 'economic',\n",
       " 'measures',\n",
       " 'boost',\n",
       " 'japanese',\n",
       " 'economy',\n",
       " 'measures',\n",
       " 'proposed',\n",
       " 'include',\n",
       " 'large',\n",
       " 'supplementary',\n",
       " 'budget',\n",
       " 'and',\n",
       " 'record',\n",
       " 'public',\n",
       " 'works',\n",
       " 'spending',\n",
       " 'half',\n",
       " 'financial',\n",
       " 'year',\n",
       " 'call',\n",
       " 'for',\n",
       " 'stepped',\n",
       " 'spending',\n",
       " 'emergency',\n",
       " 'measure',\n",
       " 'stimulate',\n",
       " 'economy',\n",
       " 'despite',\n",
       " 'prime',\n",
       " 'minister',\n",
       " 'yasuhiro',\n",
       " 'nakasone',\n",
       " 'avowed',\n",
       " 'fiscal',\n",
       " 'reform',\n",
       " 'program',\n",
       " 'deputy',\n",
       " 'trade',\n",
       " 'representative',\n",
       " 'michael',\n",
       " 'smith',\n",
       " 'and',\n",
       " 'makoto',\n",
       " 'kuroda',\n",
       " 'japan',\n",
       " 'deputy',\n",
       " 'minister',\n",
       " 'international',\n",
       " 'trade',\n",
       " 'and',\n",
       " 'industry',\n",
       " 'miti',\n",
       " 'due',\n",
       " 'meet',\n",
       " 'washington',\n",
       " 'this',\n",
       " 'week',\n",
       " 'effort',\n",
       " 'end',\n",
       " 'dispute',\n",
       " 'reuter']"
      ]
     },
     "execution_count": 177,
     "metadata": {},
     "output_type": "execute_result"
    }
   ],
   "source": [
    "X[0]"
   ]
  },
  {
   "cell_type": "markdown",
   "metadata": {},
   "source": [
    "Обучим word2vec на наших текстах."
   ]
  },
  {
   "cell_type": "code",
   "execution_count": 5,
   "metadata": {
    "collapsed": false,
    "deletable": true,
    "editable": true
   },
   "outputs": [
    {
     "name": "stderr",
     "output_type": "stream",
     "text": [
      "2017-04-23 20:39:19,527 : INFO : collecting all words and their counts\n",
      "2017-04-23 20:39:19,528 : INFO : PROGRESS: at sentence #0, processed 0 words, keeping 0 word types\n",
      "2017-04-23 20:39:19,658 : INFO : collected 22931 word types from a corpus of 495226 raw words and 7674 sentences\n",
      "2017-04-23 20:39:19,659 : INFO : Loading a fresh vocabulary\n",
      "2017-04-23 20:39:19,702 : INFO : min_count=5 retains 7367 unique words (32% of original 22931, drops 15564)\n",
      "2017-04-23 20:39:19,703 : INFO : min_count=5 leaves 468792 word corpus (94% of original 495226, drops 26434)\n",
      "2017-04-23 20:39:19,745 : INFO : deleting the raw counts dictionary of 22931 items\n",
      "2017-04-23 20:39:19,751 : INFO : sample=0.001 downsamples 39 most-common words\n",
      "2017-04-23 20:39:19,752 : INFO : downsampling leaves estimated 385730 word corpus (82.3% of prior 468792)\n",
      "2017-04-23 20:39:19,754 : INFO : estimated required memory for 7367 words and 100 dimensions: 9577100 bytes\n",
      "2017-04-23 20:39:19,811 : INFO : resetting layer weights\n",
      "2017-04-23 20:39:19,943 : INFO : training model with 2 workers on 7367 vocabulary and 100 features, using sg=0 hs=0 sample=0.001 negative=5 window=5\n",
      "2017-04-23 20:39:20,958 : INFO : PROGRESS: at 54.43% examples, 1032634 words/s, in_qsize 3, out_qsize 0\n",
      "2017-04-23 20:39:21,967 : INFO : PROGRESS: at 87.52% examples, 830575 words/s, in_qsize 3, out_qsize 0\n",
      "2017-04-23 20:39:22,212 : INFO : worker thread finished; awaiting finish of 1 more threads\n",
      "2017-04-23 20:39:22,221 : INFO : worker thread finished; awaiting finish of 0 more threads\n",
      "2017-04-23 20:39:22,222 : INFO : training on 2476130 raw words (1928943 effective words) took 2.3s, 848104 effective words/s\n"
     ]
    }
   ],
   "source": [
    "model = word2vec.Word2Vec(X, size=100, window=5, workers=2)"
   ]
  },
  {
   "cell_type": "code",
   "execution_count": 6,
   "metadata": {
    "collapsed": false,
    "deletable": true,
    "editable": true
   },
   "outputs": [
    {
     "name": "stderr",
     "output_type": "stream",
     "text": [
      "2017-04-23 20:39:24,053 : INFO : saving Word2Vec object under model, separately None\n",
      "2017-04-23 20:39:24,055 : INFO : not storing attribute syn0norm\n",
      "2017-04-23 20:39:24,057 : INFO : not storing attribute cum_table\n",
      "2017-04-23 20:39:24,185 : INFO : saved model\n"
     ]
    }
   ],
   "source": [
    "model.save('model')"
   ]
  },
  {
   "cell_type": "code",
   "execution_count": 7,
   "metadata": {
    "collapsed": false
   },
   "outputs": [
    {
     "name": "stderr",
     "output_type": "stream",
     "text": [
      "2017-04-23 20:39:24,794 : INFO : loading Word2Vec object from model\n",
      "2017-04-23 20:39:24,869 : INFO : loading wv recursively from model.wv.* with mmap=None\n",
      "2017-04-23 20:39:24,871 : INFO : setting ignored attribute syn0norm to None\n",
      "2017-04-23 20:39:24,871 : INFO : setting ignored attribute cum_table to None\n",
      "2017-04-23 20:39:24,873 : INFO : loaded model\n"
     ]
    }
   ],
   "source": [
    "model = word2vec.Word2Vec.load('model')"
   ]
  },
  {
   "cell_type": "code",
   "execution_count": 9,
   "metadata": {
    "collapsed": false,
    "deletable": true,
    "editable": true
   },
   "outputs": [],
   "source": [
    "w2v = dict(zip(model.wv.index2word, model.wv.syn0))"
   ]
  },
  {
   "cell_type": "markdown",
   "metadata": {},
   "source": [
    "Для решения задачи классификации каждый текст преобразуем к среднему по векторам, соответсвующим словам из словаря, которые есть в данном тексте (если слова нет в тексте, то берем нулевой вектор). Эта преобразование реализуется методом transform класса mean_vectorizer."
   ]
  },
  {
   "cell_type": "code",
   "execution_count": 10,
   "metadata": {
    "collapsed": true,
    "deletable": true,
    "editable": true
   },
   "outputs": [],
   "source": [
    "class mean_vectorizer(object):\n",
    "    def __init__(self, word2vec):\n",
    "        self.word2vec = word2vec\n",
    "        self.dim = len(next(iter(w2v.values())))\n",
    "    \n",
    "    def fit(self, X):\n",
    "        return self \n",
    "\n",
    "    def transform(self, X):\n",
    "        return np.array([\n",
    "            np.mean([self.word2vec[w] for w in words if w in self.word2vec] \n",
    "                    or [np.zeros(self.dim)], axis=0)\n",
    "            for words in X\n",
    "        ])\n",
    "    "
   ]
  },
  {
   "cell_type": "markdown",
   "metadata": {},
   "source": [
    "Так же попробуем взять взвешенное среднее. В качестве весов возьмем idf меру слова, тем самым уменьшим вес часто встречающихся слов."
   ]
  },
  {
   "cell_type": "code",
   "execution_count": 11,
   "metadata": {
    "collapsed": true
   },
   "outputs": [],
   "source": [
    "from sklearn.feature_extraction.text import TfidfVectorizer\n",
    "from collections import defaultdict\n",
    "\n",
    "class tfidf_vectorizer(object):\n",
    "    def __init__(self, word2vec):\n",
    "        self.word2vec = word2vec\n",
    "        self.word2weight = None\n",
    "        self.dim = len(next(iter(w2v.values())))\n",
    "\n",
    "    def fit(self, X):\n",
    "        tfidf = TfidfVectorizer(analyzer=lambda x: x)\n",
    "        tfidf.fit(X)\n",
    "        # if a word was never seen - it must be at least as infrequent\n",
    "        # as any of the known words - so the default idf is the max of \n",
    "        # known idf's\n",
    "        max_idf = max(tfidf.idf_)\n",
    "        self.word2weight = defaultdict(\n",
    "            lambda: max_idf,\n",
    "            [(w, tfidf.idf_[i]) for w, i in tfidf.vocabulary_.items()])\n",
    "\n",
    "        return self\n",
    "\n",
    "    def transform(self, X):\n",
    "        return np.array([\n",
    "                np.mean([self.word2vec[w] * self.word2weight[w]\n",
    "                         for w in words if w in self.word2vec] or\n",
    "                        [np.zeros(self.dim)], axis=0)\n",
    "                for words in X\n",
    "            ])"
   ]
  },
  {
   "cell_type": "code",
   "execution_count": 12,
   "metadata": {
    "collapsed": false
   },
   "outputs": [],
   "source": [
    "data_mean=mean_vectorizer(w2v).fit(X).transform(X)"
   ]
  },
  {
   "cell_type": "code",
   "execution_count": 13,
   "metadata": {
    "collapsed": false
   },
   "outputs": [],
   "source": [
    "data_tfidf=tfidf_vectorizer(w2v).fit(X).transform(X)"
   ]
  },
  {
   "cell_type": "code",
   "execution_count": 14,
   "metadata": {
    "collapsed": true
   },
   "outputs": [],
   "source": [
    "label=y"
   ]
  },
  {
   "cell_type": "markdown",
   "metadata": {},
   "source": [
    "# Training"
   ]
  },
  {
   "cell_type": "markdown",
   "metadata": {},
   "source": [
    "Попробуем обучить разные классификаторы."
   ]
  },
  {
   "cell_type": "code",
   "execution_count": 77,
   "metadata": {
    "collapsed": true
   },
   "outputs": [],
   "source": [
    "from sklearn.neighbors import KNeighborsClassifier\n",
    "from sklearn.svm import SVC\n",
    "from sklearn.naive_bayes import BernoulliNB\n",
    "from sklearn.ensemble import RandomForestClassifier\n",
    "from sklearn.ensemble import ExtraTreesClassifier\n",
    "from sklearn.model_selection import GridSearchCV\n",
    "from sklearn.model_selection import cross_val_score"
   ]
  },
  {
   "cell_type": "markdown",
   "metadata": {},
   "source": [
    "Для knn подберем оптимальное число соседей."
   ]
  },
  {
   "cell_type": "code",
   "execution_count": 19,
   "metadata": {
    "collapsed": false
   },
   "outputs": [
    {
     "data": {
      "text/plain": [
       "GridSearchCV(cv=5, error_score='raise',\n",
       "       estimator=KNeighborsClassifier(algorithm='auto', leaf_size=30, metric='minkowski',\n",
       "           metric_params=None, n_jobs=1, n_neighbors=5, p=2,\n",
       "           weights='uniform'),\n",
       "       fit_params={}, iid=True, n_jobs=1,\n",
       "       param_grid={'n_neighbors': array([ 1,  2,  3,  4,  5,  6,  7,  8,  9, 10, 11, 12, 13, 14, 15, 16, 17,\n",
       "       18, 19, 20, 21, 22, 23, 24, 25, 26, 27, 28, 29])},\n",
       "       pre_dispatch='2*n_jobs', refit=True, return_train_score=True,\n",
       "       scoring=None, verbose=0)"
      ]
     },
     "execution_count": 19,
     "metadata": {},
     "output_type": "execute_result"
    }
   ],
   "source": [
    "knn = KNeighborsClassifier()\n",
    "params={'n_neighbors':np.arange(1,30)}\n",
    "clf_knn = GridSearchCV(knn, params,cv=5)\n",
    "clf_knn.fit(data_mean, label)"
   ]
  },
  {
   "cell_type": "code",
   "execution_count": 20,
   "metadata": {
    "collapsed": false
   },
   "outputs": [
    {
     "data": {
      "image/png": "[encoded data removed]",
      "text/plain": [
       "<matplotlib.figure.Figure at 0x10a4765f8>"
      ]
     },
     "metadata": {},
     "output_type": "display_data"
    }
   ],
   "source": [
    "x,y,err=params['n_neighbors'],clf_knn.cv_results_['mean_test_score'],clf_knn.cv_results_['std_test_score']\n",
    "plt.plot(x,y,'b')\n",
    "plt.xlabel('n neighbors')\n",
    "plt.ylabel('mean test score')\n",
    "plt.fill_between(x,y-err,y+err,facecolor='green')\n",
    "plt.show()"
   ]
  },
  {
   "cell_type": "markdown",
   "metadata": {},
   "source": [
    "Проверим какой svm работает лучше: линейный или с rbf ядром. "
   ]
  },
  {
   "cell_type": "code",
   "execution_count": 28,
   "metadata": {
    "collapsed": false
   },
   "outputs": [
    {
     "data": {
      "text/plain": [
       "GridSearchCV(cv=5, error_score='raise',\n",
       "       estimator=SVC(C=1.0, cache_size=200, class_weight=None, coef0=0.0,\n",
       "  decision_function_shape=None, degree=3, gamma='auto', kernel='rbf',\n",
       "  max_iter=-1, probability=False, random_state=None, shrinking=True,\n",
       "  tol=0.001, verbose=False),\n",
       "       fit_params={}, iid=True, n_jobs=1,\n",
       "       param_grid={'kernel': ['linear', 'rbf']}, pre_dispatch='2*n_jobs',\n",
       "       refit=True, return_train_score=True, scoring=None, verbose=0)"
      ]
     },
     "execution_count": 28,
     "metadata": {},
     "output_type": "execute_result"
    }
   ],
   "source": [
    "svc = SVC()\n",
    "params={'kernel':['linear','rbf']}\n",
    "clf_svc = GridSearchCV(svc, params,cv=5)\n",
    "clf_svc.fit(data_mean, label)"
   ]
  },
  {
   "cell_type": "code",
   "execution_count": 29,
   "metadata": {
    "collapsed": false
   },
   "outputs": [
    {
     "data": {
      "text/plain": [
       "array([ 0.9498306 ,  0.93262966])"
      ]
     },
     "execution_count": 29,
     "metadata": {},
     "output_type": "execute_result"
    }
   ],
   "source": [
    "clf_svc.cv_results_['mean_test_score']"
   ]
  },
  {
   "cell_type": "markdown",
   "metadata": {},
   "source": [
    "Наивный байесовский классификатор работает хуже."
   ]
  },
  {
   "cell_type": "code",
   "execution_count": 134,
   "metadata": {
    "collapsed": true
   },
   "outputs": [],
   "source": [
    "clf_bnb=BernoulliNB()\n",
    "score_bnb=cross_val_score(clf_bnb,data_mean,label,cv=5)"
   ]
  },
  {
   "cell_type": "code",
   "execution_count": 135,
   "metadata": {
    "collapsed": false
   },
   "outputs": [
    {
     "data": {
      "text/plain": [
       "0.87956755402273801"
      ]
     },
     "execution_count": 135,
     "metadata": {},
     "output_type": "execute_result"
    }
   ],
   "source": [
    "score_bnb.mean()"
   ]
  },
  {
   "cell_type": "markdown",
   "metadata": {},
   "source": [
    "Сравним ансамбли деревьев. Extra trees classifier показал больший результат, чем random forest."
   ]
  },
  {
   "cell_type": "code",
   "execution_count": 81,
   "metadata": {
    "collapsed": true
   },
   "outputs": [],
   "source": [
    "clf_rf=RandomForestClassifier(n_estimators=200)\n",
    "score_rf=cross_val_score(clf_rf,data_mean,label,cv=5)"
   ]
  },
  {
   "cell_type": "code",
   "execution_count": 83,
   "metadata": {
    "collapsed": false
   },
   "outputs": [
    {
     "data": {
      "text/plain": [
       "0.94852070246516451"
      ]
     },
     "execution_count": 83,
     "metadata": {},
     "output_type": "execute_result"
    }
   ],
   "source": [
    "score_rf.mean()"
   ]
  },
  {
   "cell_type": "code",
   "execution_count": 84,
   "metadata": {
    "collapsed": true
   },
   "outputs": [],
   "source": [
    "clf_trees=ExtraTreesClassifier(n_estimators=200)\n",
    "score_trees=cross_val_score(clf_trees,data_mean,label,cv=5)"
   ]
  },
  {
   "cell_type": "code",
   "execution_count": 85,
   "metadata": {
    "collapsed": false
   },
   "outputs": [
    {
     "data": {
      "text/plain": [
       "0.95125610820177919"
      ]
     },
     "execution_count": 85,
     "metadata": {},
     "output_type": "execute_result"
    }
   ],
   "source": [
    "score_trees.mean()"
   ]
  },
  {
   "cell_type": "markdown",
   "metadata": {},
   "source": [
    "Исследуем гиперпараметры: максимальную глубину деревьев и максисальное количествой признаков, используемое деревом."
   ]
  },
  {
   "cell_type": "code",
   "execution_count": 96,
   "metadata": {
    "collapsed": false
   },
   "outputs": [
    {
     "data": {
      "text/plain": [
       "GridSearchCV(cv=5, error_score='raise',\n",
       "       estimator=ExtraTreesClassifier(bootstrap=False, class_weight=None, criterion='gini',\n",
       "           max_depth=None, max_features='auto', max_leaf_nodes=None,\n",
       "           min_impurity_split=1e-07, min_samples_leaf=1,\n",
       "           min_samples_split=2, min_weight_fraction_leaf=0.0,\n",
       "           n_estimators=200, n_jobs=1, oob_score=False, random_state=None,\n",
       "           verbose=0, warm_start=False),\n",
       "       fit_params={}, iid=True, n_jobs=1,\n",
       "       param_grid={'max_depth': array([ 1,  6, 11, 16, 21, 26, 31, 36, 41, 46])},\n",
       "       pre_dispatch='2*n_jobs', refit=True, return_train_score=True,\n",
       "       scoring=None, verbose=0)"
      ]
     },
     "execution_count": 96,
     "metadata": {},
     "output_type": "execute_result"
    }
   ],
   "source": [
    "params={'max_depth':np.arange(1,50,5)}\n",
    "clf_trees = GridSearchCV(clf_trees, params,cv=5)\n",
    "clf_trees.fit(data_mean, label)"
   ]
  },
  {
   "cell_type": "code",
   "execution_count": 97,
   "metadata": {
    "collapsed": false,
    "deletable": true,
    "editable": true
   },
   "outputs": [
    {
     "data": {
      "image/png": "[encoded data removed]",
      "text/plain": [
       "<matplotlib.figure.Figure at 0x10d4c1d68>"
      ]
     },
     "metadata": {},
     "output_type": "display_data"
    }
   ],
   "source": [
    "x,y,err=params['max_depth'],clf_trees.cv_results_['mean_test_score'],clf_trees.cv_results_['std_test_score']\n",
    "plt.plot(x,y,'b')\n",
    "plt.xlabel('max depth')\n",
    "plt.ylabel('mean test score')\n",
    "plt.fill_between(x,y-err,y+err,facecolor='green')\n",
    "plt.show()"
   ]
  },
  {
   "cell_type": "code",
   "execution_count": 103,
   "metadata": {
    "collapsed": false
   },
   "outputs": [
    {
     "data": {
      "text/plain": [
       "GridSearchCV(cv=5, error_score='raise',\n",
       "       estimator=ExtraTreesClassifier(bootstrap=False, class_weight=None, criterion='gini',\n",
       "           max_depth=None, max_features='auto', max_leaf_nodes=None,\n",
       "           min_impurity_split=1e-07, min_samples_leaf=1,\n",
       "           min_samples_split=2, min_weight_fraction_leaf=0.0,\n",
       "           n_estimators=200, n_jobs=1, oob_score=False, random_state=None,\n",
       "           verbose=0, warm_start=False),\n",
       "       fit_params={}, iid=True, n_jobs=1,\n",
       "       param_grid={'max_features': array([ 1, 11, 21, 31, 41, 51, 61, 71, 81, 91])},\n",
       "       pre_dispatch='2*n_jobs', refit=True, return_train_score=True,\n",
       "       scoring=None, verbose=0)"
      ]
     },
     "execution_count": 103,
     "metadata": {},
     "output_type": "execute_result"
    }
   ],
   "source": [
    "clf_trees=ExtraTreesClassifier(n_estimators=200)\n",
    "params={'max_features':np.arange(1,100,10)}\n",
    "clf_trees = GridSearchCV(clf_trees, params,cv=5)\n",
    "clf_trees.fit(data_mean, label)"
   ]
  },
  {
   "cell_type": "code",
   "execution_count": 104,
   "metadata": {
    "collapsed": false
   },
   "outputs": [
    {
     "data": {
      "image/png": "[encoded data removed]",
      "text/plain": [
       "<matplotlib.figure.Figure at 0x10d857908>"
      ]
     },
     "metadata": {},
     "output_type": "display_data"
    }
   ],
   "source": [
    "x,y,err=params['max_features'],clf_trees.cv_results_['mean_test_score'],clf_trees.cv_results_['std_test_score']\n",
    "plt.plot(x,y,'b')\n",
    "plt.xlabel('max features')\n",
    "plt.ylabel('mean test score')\n",
    "plt.fill_between(x,y-err,y+err,facecolor='green')\n",
    "plt.show()"
   ]
  },
  {
   "cell_type": "markdown",
   "metadata": {},
   "source": [
    "Теперь сравним результаты лучших моделей по-разному обработанных текстах (обычное или взвешенное среднее)."
   ]
  },
  {
   "cell_type": "code",
   "execution_count": 164,
   "metadata": {
    "collapsed": true
   },
   "outputs": [],
   "source": [
    "knn = KNeighborsClassifier(n_neighbors=clf_knn.best_params_['n_neighbors'])\n",
    "svc = SVC(kernel='linear')\n",
    "trees=ExtraTreesClassifier(n_estimators=200,max_features=30)"
   ]
  },
  {
   "cell_type": "code",
   "execution_count": 165,
   "metadata": {
    "collapsed": false
   },
   "outputs": [],
   "source": [
    "results=pd.DataFrame(index=['knn','svc_linear','extra_trees'],columns=['mean','tfidf'])"
   ]
  },
  {
   "cell_type": "code",
   "execution_count": 168,
   "metadata": {
    "collapsed": false
   },
   "outputs": [],
   "source": [
    "scores=[]\n",
    "for data in [data_mean,data_tfidf]:\n",
    "    for clf in [knn,svc,trees]:\n",
    "        scores.append(cross_val_score(clf,data,label,cv=5).mean())    "
   ]
  },
  {
   "cell_type": "markdown",
   "metadata": {},
   "source": [
    "Результаты (особенно результат линейного svm) значительно улучшились благодаря idf весам."
   ]
  },
  {
   "cell_type": "code",
   "execution_count": 169,
   "metadata": {
    "collapsed": false
   },
   "outputs": [
    {
     "data": {
      "text/html": [
       "<div>\n",
       "<table border=\"1\" class=\"dataframe\">\n",
       "  <thead>\n",
       "    <tr style=\"text-align: right;\">\n",
       "      <th></th>\n",
       "      <th>mean</th>\n",
       "      <th>tfidf</th>\n",
       "    </tr>\n",
       "  </thead>\n",
       "  <tbody>\n",
       "    <tr>\n",
       "      <th>knn</th>\n",
       "      <td>0.942784</td>\n",
       "      <td>0.946177</td>\n",
       "    </tr>\n",
       "    <tr>\n",
       "      <th>svc_linear</th>\n",
       "      <td>0.949825</td>\n",
       "      <td>0.957124</td>\n",
       "    </tr>\n",
       "    <tr>\n",
       "      <th>extra_trees</th>\n",
       "      <td>0.951906</td>\n",
       "      <td>0.954774</td>\n",
       "    </tr>\n",
       "  </tbody>\n",
       "</table>\n",
       "</div>"
      ],
      "text/plain": [
       "                 mean     tfidf\n",
       "knn          0.942784  0.946177\n",
       "svc_linear   0.949825  0.957124\n",
       "extra_trees  0.951906  0.954774"
      ]
     },
     "execution_count": 169,
     "metadata": {},
     "output_type": "execute_result"
    }
   ],
   "source": [
    "results['mean']=scores[:3]\n",
    "results['tfidf']=scores[-3:]\n",
    "results"
   ]
  },
  {
   "cell_type": "markdown",
   "metadata": {},
   "source": [
    "# News"
   ]
  },
  {
   "cell_type": "markdown",
   "metadata": {},
   "source": [
    "Попробуем взять другие тексты. Это статьи из новостной газеты, размеченные по 20 темам."
   ]
  },
  {
   "cell_type": "code",
   "execution_count": 194,
   "metadata": {
    "collapsed": false
   },
   "outputs": [],
   "source": [
    "X, y = [], []\n",
    "with open('20ng-no-stop.txt') as infile:\n",
    "    for line in infile:\n",
    "        label, text = line.split(\"\\t\")\n",
    "        # texts are already tokenized, just split on space\n",
    "        # in a real case we would use e.g. spaCy for tokenization\n",
    "        # and maybe remove stopwords etc.\n",
    "        X.append(text.split())\n",
    "        y.append(label)\n",
    "X, y = np.array(X), np.array(y)"
   ]
  },
  {
   "cell_type": "code",
   "execution_count": 195,
   "metadata": {
    "collapsed": false
   },
   "outputs": [
    {
     "name": "stderr",
     "output_type": "stream",
     "text": [
      "2017-04-24 00:27:10,316 : INFO : collecting all words and their counts\n",
      "2017-04-24 00:27:10,318 : INFO : PROGRESS: at sentence #0, processed 0 words, keeping 0 word types\n",
      "2017-04-24 00:27:10,714 : INFO : PROGRESS: at sentence #10000, processed 1321764 words, keeping 65410 word types\n",
      "2017-04-24 00:27:11,077 : INFO : collected 92811 word types from a corpus of 2654769 raw words and 18821 sentences\n",
      "2017-04-24 00:27:11,078 : INFO : Loading a fresh vocabulary\n",
      "2017-04-24 00:27:11,246 : INFO : min_count=5 retains 32816 unique words (35% of original 92811, drops 59995)\n",
      "2017-04-24 00:27:11,248 : INFO : min_count=5 leaves 2550366 word corpus (96% of original 2654769, drops 104403)\n",
      "2017-04-24 00:27:11,368 : INFO : deleting the raw counts dictionary of 92811 items\n",
      "2017-04-24 00:27:11,372 : INFO : sample=0.001 downsamples 16 most-common words\n",
      "2017-04-24 00:27:11,374 : INFO : downsampling leaves estimated 2275837 word corpus (89.2% of prior 2550366)\n",
      "2017-04-24 00:27:11,377 : INFO : estimated required memory for 32816 words and 100 dimensions: 42660800 bytes\n",
      "2017-04-24 00:27:11,526 : INFO : resetting layer weights\n",
      "2017-04-24 00:27:12,013 : INFO : training model with 2 workers on 32816 vocabulary and 100 features, using sg=0 hs=0 sample=0.001 negative=5 window=10\n",
      "2017-04-24 00:27:13,025 : INFO : PROGRESS: at 7.00% examples, 705121 words/s, in_qsize 3, out_qsize 0\n",
      "2017-04-24 00:27:14,038 : INFO : PROGRESS: at 13.88% examples, 701676 words/s, in_qsize 3, out_qsize 0\n",
      "2017-04-24 00:27:15,039 : INFO : PROGRESS: at 19.21% examples, 711370 words/s, in_qsize 3, out_qsize 0\n",
      "2017-04-24 00:27:16,041 : INFO : PROGRESS: at 25.46% examples, 694024 words/s, in_qsize 3, out_qsize 0\n",
      "2017-04-24 00:27:17,048 : INFO : PROGRESS: at 30.32% examples, 673028 words/s, in_qsize 3, out_qsize 0\n",
      "2017-04-24 00:27:18,069 : INFO : PROGRESS: at 35.63% examples, 647607 words/s, in_qsize 2, out_qsize 1\n",
      "2017-04-24 00:27:19,095 : INFO : PROGRESS: at 38.74% examples, 613141 words/s, in_qsize 3, out_qsize 0\n",
      "2017-04-24 00:27:20,107 : INFO : PROGRESS: at 43.03% examples, 598302 words/s, in_qsize 3, out_qsize 0\n",
      "2017-04-24 00:27:21,147 : INFO : PROGRESS: at 47.10% examples, 577963 words/s, in_qsize 3, out_qsize 0\n",
      "2017-04-24 00:27:22,151 : INFO : PROGRESS: at 50.44% examples, 559550 words/s, in_qsize 3, out_qsize 0\n",
      "2017-04-24 00:27:23,158 : INFO : PROGRESS: at 54.81% examples, 545740 words/s, in_qsize 3, out_qsize 0\n",
      "2017-04-24 00:27:24,183 : INFO : PROGRESS: at 57.31% examples, 524819 words/s, in_qsize 3, out_qsize 0\n",
      "2017-04-24 00:27:25,200 : INFO : PROGRESS: at 58.62% examples, 499879 words/s, in_qsize 4, out_qsize 0\n",
      "2017-04-24 00:27:26,207 : INFO : PROGRESS: at 63.46% examples, 503827 words/s, in_qsize 3, out_qsize 0\n",
      "2017-04-24 00:27:27,228 : INFO : PROGRESS: at 66.59% examples, 492242 words/s, in_qsize 3, out_qsize 0\n",
      "2017-04-24 00:27:28,231 : INFO : PROGRESS: at 71.60% examples, 497552 words/s, in_qsize 3, out_qsize 0\n",
      "2017-04-24 00:27:29,232 : INFO : PROGRESS: at 76.10% examples, 494023 words/s, in_qsize 3, out_qsize 0\n",
      "2017-04-24 00:27:30,238 : INFO : PROGRESS: at 79.42% examples, 494976 words/s, in_qsize 3, out_qsize 0\n",
      "2017-04-24 00:27:31,239 : INFO : PROGRESS: at 83.86% examples, 492101 words/s, in_qsize 2, out_qsize 1\n",
      "2017-04-24 00:27:32,277 : INFO : PROGRESS: at 87.55% examples, 489661 words/s, in_qsize 3, out_qsize 0\n",
      "2017-04-24 00:27:33,284 : INFO : PROGRESS: at 91.60% examples, 486358 words/s, in_qsize 3, out_qsize 0\n",
      "2017-04-24 00:27:34,291 : INFO : PROGRESS: at 97.99% examples, 495451 words/s, in_qsize 3, out_qsize 0\n",
      "2017-04-24 00:27:34,735 : INFO : worker thread finished; awaiting finish of 1 more threads\n",
      "2017-04-24 00:27:34,744 : INFO : worker thread finished; awaiting finish of 0 more threads\n",
      "2017-04-24 00:27:34,745 : INFO : training on 13273845 raw words (11378410 effective words) took 22.7s, 500603 effective words/s\n"
     ]
    }
   ],
   "source": [
    "model = word2vec.Word2Vec(X, size=100, window=10, workers=2)"
   ]
  },
  {
   "cell_type": "code",
   "execution_count": 196,
   "metadata": {
    "collapsed": true
   },
   "outputs": [],
   "source": [
    "w2v = dict(zip(model.wv.index2word, model.wv.syn0))"
   ]
  },
  {
   "cell_type": "code",
   "execution_count": 197,
   "metadata": {
    "collapsed": false
   },
   "outputs": [],
   "source": [
    "data_mean=mean_vectorizer(w2v).fit(X).transform(X)\n",
    "data_tfidf=tfidf_vectorizer(w2v).fit(X).transform(X)\n",
    "label=y"
   ]
  },
  {
   "cell_type": "code",
   "execution_count": 198,
   "metadata": {
    "collapsed": false
   },
   "outputs": [],
   "source": [
    "scores=[]\n",
    "for data in [data_mean,data_tfidf]:\n",
    "    for clf in [knn,svc,trees]:\n",
    "        scores.append(cross_val_score(clf,data,label,cv=5).mean())    "
   ]
  },
  {
   "cell_type": "markdown",
   "metadata": {},
   "source": [
    "Результаты уже не такие хорошие. Причем я проверила, что увеличение окна при обучении word2vec улучшило результат. Можно скачать уже обученный word2vec от google. Ну и конечно усредняя векторы слов в тексте мы теряем информацию. Можно разбить текст на фразы и обучаться на них. Еще можно сохранить предсказания и добавить еще признаков (в зависимости от задачи, например, количество слов из данного кластера)  и обучиться поверх. "
   ]
  },
  {
   "cell_type": "code",
   "execution_count": 199,
   "metadata": {
    "collapsed": false
   },
   "outputs": [
    {
     "data": {
      "text/html": [
       "<div>\n",
       "<table border=\"1\" class=\"dataframe\">\n",
       "  <thead>\n",
       "    <tr style=\"text-align: right;\">\n",
       "      <th></th>\n",
       "      <th>mean</th>\n",
       "      <th>tfidf</th>\n",
       "    </tr>\n",
       "  </thead>\n",
       "  <tbody>\n",
       "    <tr>\n",
       "      <th>knn</th>\n",
       "      <td>0.566983</td>\n",
       "      <td>0.612190</td>\n",
       "    </tr>\n",
       "    <tr>\n",
       "      <th>svc_linear</th>\n",
       "      <td>0.663517</td>\n",
       "      <td>0.714843</td>\n",
       "    </tr>\n",
       "    <tr>\n",
       "      <th>extra_trees</th>\n",
       "      <td>0.613420</td>\n",
       "      <td>0.658264</td>\n",
       "    </tr>\n",
       "  </tbody>\n",
       "</table>\n",
       "</div>"
      ],
      "text/plain": [
       "                 mean     tfidf\n",
       "knn          0.566983  0.612190\n",
       "svc_linear   0.663517  0.714843\n",
       "extra_trees  0.613420  0.658264"
      ]
     },
     "execution_count": 199,
     "metadata": {},
     "output_type": "execute_result"
    }
   ],
   "source": [
    "results['mean']=scores[:3]\n",
    "results['tfidf']=scores[-3:]\n",
    "results"
   ]
  }
 ],
 "metadata": {
  "kernelspec": {
   "display_name": "Python 3",
   "language": "python",
   "name": "python3"
  },
  "language_info": {
   "codemirror_mode": {
    "name": "ipython",
    "version": 3
   },
   "file_extension": ".py",
   "mimetype": "text/x-python",
   "name": "python",
   "nbconvert_exporter": "python",
   "pygments_lexer": "ipython3",
   "version": "3.6.0"
  }
 },
 "nbformat": 4,
 "nbformat_minor": 2
}
